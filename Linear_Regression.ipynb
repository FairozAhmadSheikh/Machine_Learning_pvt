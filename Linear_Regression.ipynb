{
 "cells": [
  {
   "cell_type": "code",
   "execution_count": 3,
   "metadata": {},
   "outputs": [],
   "source": [
    "import numpy as np\n",
    "import matplotlib.pyplot as plt\n",
    "from sklearn.model_selection import train_test_split\n",
    "from sklearn.linear_model import LinearRegression\n",
    "from sklearn.metrics import mean_squared_error\n"
   ]
  },
  {
   "cell_type": "markdown",
   "metadata": {},
   "source": [
    "create Dataset"
   ]
  },
  {
   "cell_type": "code",
   "execution_count": null,
   "metadata": {},
   "outputs": [],
   "source": [
    "# Sample Data: House Size (in 1000 sq ft) vs Price (in $1000s)\n",
    "X = np.array([1.1, 1.5, 2.0, 2.3, 2.7, 3.0, 3.2, 3.8, 4.0, 4.5]).reshape(-1, 1)\n",
    "y = np.array([150, 180, 220, 250, 270, 300, 310, 370, 390, 450])\n",
    "\n",
    "# Splitting the dataset into training and testing sets (80% training, 20% testing)\n",
    "X_train, X_test, y_train, y_test = train_test_split(X, y, test_size=0.2, random_state=42)\n"
   ]
  },
  {
   "cell_type": "markdown",
   "metadata": {},
   "source": [
    "Train Regression Model"
   ]
  },
  {
   "cell_type": "code",
   "execution_count": null,
   "metadata": {},
   "outputs": [],
   "source": [
    "# Create a Linear Regression model\n",
    "model = LinearRegression()\n",
    "\n",
    "# Train (fit) the model using the training data\n",
    "model.fit(X_train, y_train)\n",
    "\n",
    "# Get the model parameters\n",
    "slope = model.coef_[0]  # Slope (m)\n",
    "intercept = model.intercept_  # Intercept (b)\n",
    "\n",
    "print(f\"Equation of Line: y = {slope:.2f}x + {intercept:.2f}\")\n"
   ]
  },
  {
   "cell_type": "markdown",
   "metadata": {},
   "source": [
    "Make Predictions"
   ]
  },
  {
   "cell_type": "code",
   "execution_count": null,
   "metadata": {},
   "outputs": [],
   "source": [
    "# Predict prices for the test set\n",
    "y_pred = model.predict(X_test)\n",
    "\n",
    "# Display predictions\n",
    "for i in range(len(X_test)):\n",
    "    print(f\"Actual: {y_test[i]}, Predicted: {y_pred[i]:.2f}\")\n"
   ]
  }
 ],
 "metadata": {
  "kernelspec": {
   "display_name": "Python 3",
   "language": "python",
   "name": "python3"
  },
  "language_info": {
   "codemirror_mode": {
    "name": "ipython",
    "version": 3
   },
   "file_extension": ".py",
   "mimetype": "text/x-python",
   "name": "python",
   "nbconvert_exporter": "python",
   "pygments_lexer": "ipython3",
   "version": "3.13.1"
  }
 },
 "nbformat": 4,
 "nbformat_minor": 2
}
